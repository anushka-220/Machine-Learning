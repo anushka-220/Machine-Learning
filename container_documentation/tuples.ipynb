{
    "cells": [
     {
      "cell_type": "markdown",
      "metadata": {},
      "source": [
       "<ins>Tuple</ins><br>\n",
       "Tuples are immutable sequences, typically used to store collections of heterogeneous data (such as the 2-tuples produced by the enumerate() built-in). Tuples are also used for cases where an immutable sequence of homogeneous data is needed (such as allowing storage in a set or dict instance).\n",
       "\n",
       "\n",
       "* Not as many methods as lists.\n",
       "\n",
       "Tuples implement all of the sequence operations, common to the lists container.\n",
       "\n",
       "\n"
      ]
     },
     {
      "cell_type": "markdown",
      "metadata": {},
      "source": [
       "1. Creation\n",
       "\n",
       "Tuples may be constructed in a number of ways:\n",
       "\n",
       "* Using a pair of parentheses to denote the empty tuple: `()`\n",
       "\n",
       "* Using a trailing comma for a singleton tuple: a, or `(a,)`\n",
       "\n",
       "* Separating items with commas: a, b, c or `(a, b, c)`\n",
       "\n",
       "* Using the `tuple()` built-in: `tuple()` or `tuple(iterable)`\n",
       "\n",
       "The constructor builds a tuple whose items *are the same and in the same order as iterable’s items*. iterable may be either a sequence, a container that supports iteration, or an iterator object. If iterable is already a tuple, it is returned unchanged. For example, `tuple('abc')` returns `('a', 'b', 'c')` and` tuple( [1, 2, 3] ) `returns (1, 2, 3). If no argument is given, the constructor creates a new empty tuple, `()`.\n",
       "\n",
       "Note that it is actually the comma which makes a tuple, not the parentheses. The parentheses are optional, except in the empty tuple case, or when they are needed to avoid syntactic ambiguity. For example, `f(a, b, c)` is a function call with three arguments, while `f((a, b, c))` is a function call with a 3-tuple as the sole argument."
      ]
     },
     {
      "cell_type": "code",
      "execution_count": 11,
      "metadata": {},
      "outputs": [
       {
        "name": "stdout",
        "output_type": "stream",
        "text": [
         "()\n",
         "(1,)\n",
         "<class 'int'>\n",
         "(1, 2, 3, 4)\n",
         "('blue', 3, True)\n",
         "(1, 2, 3, 4, 5, 6)\n"
        ]
       }
      ],
      "source": [
       "t1 = () # an empty tuple\n",
       "print(t1)\n",
       "t2 = 1, # single element tuples have trailing commas\n",
       "print(t2)\n",
       "t = (1)\n",
       "print(type(t))\n",
       "#The above will not be recognized as a tuple\n",
       "\n",
       "t3 = 1,2,3,4 # to create a tuple, you do not require parentheses, you just require commas\n",
       "print(t3)\n",
       "list1 = ['blue', 3, True]\n",
       "t = tuple(list1)\n",
       "print(t)\n",
       "\n",
       "#We can also use range() to create tuples\n",
       "print(tuple(range(1, 7)))"
      ]
     },
     {
      "cell_type": "code",
      "execution_count": 12,
      "metadata": {},
      "outputs": [
       {
        "ename": "TypeError",
        "evalue": "'tuple' object does not support item assignment",
        "output_type": "error",
        "traceback": [
         "\u001b[1;31m---------------------------------------------------------------------------\u001b[0m",
         "\u001b[1;31mTypeError\u001b[0m                                 Traceback (most recent call last)",
         "Cell \u001b[1;32mIn[12], line 3\u001b[0m\n\u001b[0;32m      1\u001b[0m \u001b[38;5;66;03m#Tuples are immutable\u001b[39;00m\n\u001b[0;32m      2\u001b[0m \u001b[38;5;66;03m#Trying to change an element raises an error for eg\u001b[39;00m\n\u001b[1;32m----> 3\u001b[0m \u001b[43mt3\u001b[49m\u001b[43m[\u001b[49m\u001b[38;5;241;43m0\u001b[39;49m\u001b[43m]\u001b[49m\u001b[38;5;241m=\u001b[39m \u001b[38;5;241m5\u001b[39m\n\u001b[0;32m      4\u001b[0m \u001b[38;5;28mprint\u001b[39m(t3)\n\u001b[0;32m      5\u001b[0m \u001b[38;5;66;03m#As we can see, TypeError is raised\u001b[39;00m\n",
         "\u001b[1;31mTypeError\u001b[0m: 'tuple' object does not support item assignment"
        ]
       }
      ],
      "source": [
       "#Tuples are immutable\n",
       "#Trying to change an element raises an error for eg\n",
       "t3[0]= 5\n",
       "print(t3)\n",
       "#As we can see, TypeError is raised"
      ]
     },
     {
      "cell_type": "code",
      "execution_count": 13,
      "metadata": {},
      "outputs": [
       {
        "name": "stdout",
        "output_type": "stream",
        "text": [
         "(1, 2, [1, 2, 3])\n",
         "((1, 2, [1, 2, 3]), (5, 6, 7))\n"
        ]
       }
      ],
      "source": [
       "#Tuples can contain mutable objects\n",
       "#They can even be nested tuples\n",
       "t1=(1,2,[1,2,3])\n",
       "t2=(t1, (5,6,7))\n",
       "print(t1)\n",
       "print(t2)"
      ]
     },
     {
      "cell_type": "markdown",
      "metadata": {},
      "source": [
       "2. Access\n",
       "\n",
       "Accessing elements in a tuple in Python is similar to accessing elements in a list. Tuples use zero-based indexing, meaning the first element has an index of 0, the second has an index of 1, and so on. You can also use negative indexing, where -1 refers to the last element, -2 to the second-to-last, and so forth.\n",
       "\n"
      ]
     },
     {
      "cell_type": "code",
      "execution_count": 14,
      "metadata": {},
      "outputs": [
       {
        "name": "stdout",
        "output_type": "stream",
        "text": [
         "1 2\n",
         "[1, 2, 3]\n"
        ]
       }
      ],
      "source": [
       "print(t1[0], t1[1]) #indexing\n",
       "print(t1[-1]) #negative indexing\n"
      ]
     },
     {
      "cell_type": "markdown",
      "metadata": {},
      "source": [
       "3. Methods\n",
       "* `index()`\n",
       "\n",
       "The index() method in Python is used to find the index of the first occurrence of a specified value within a tuple. If the specified element is not found, it raises a ValueError. \n",
       "\n",
       "`tuple.index(element, start, end)`\n",
       "\n",
       "* `element`: The value for which the method searches.\n",
       "`start (optional)`: The index from where the search begins. The default is 0.\n",
       "`end (optional)`: The index at which the search stops. The default is the end of the tuple.\n"
      ]
     },
     {
      "cell_type": "code",
      "execution_count": 15,
      "metadata": {},
      "outputs": [
       {
        "name": "stdout",
        "output_type": "stream",
        "text": [
         "Index of first occurrence of 20: 1\n",
         "Index of 20 starting from index 2: 3\n",
         "Index of 40 in subset [2:5]: 4\n"
        ]
       }
      ],
      "source": [
       "my_tuple = (10, 20, 30, 20, 40, 50)\n",
       "\n",
       "# Find the index of the first occurrence of 20\n",
       "index_20 = my_tuple.index(20)\n",
       "print(\"Index of first occurrence of 20:\", index_20)  # Output: 1\n",
       "\n",
       "# Find the index of 20 starting from index 2\n",
       "index_20_from_2 = my_tuple.index(20, 2)\n",
       "print(\"Index of 20 starting from index 2:\", index_20_from_2)  # Output: 3\n",
       "\n",
       "# Find the index of 40 in the subset [2:5]\n",
       "index_40_in_subset = my_tuple.index(40, 2, 5)\n",
       "print(\"Index of 40 in subset [2:5]:\", index_40_in_subset)  # Output: 4\n"
      ]
     },
     {
      "cell_type": "markdown",
      "metadata": {},
      "source": [
       "* `count`\n",
       "The count() method in Python is used to count the number of occurrences of a specific element within a tuple. "
      ]
     },
     {
      "cell_type": "code",
      "execution_count": 16,
      "metadata": {},
      "outputs": [
       {
        "name": "stdout",
        "output_type": "stream",
        "text": [
         "Number of occurrences of 20: 2\n",
         "Number of occurrences of 60: 0\n"
        ]
       }
      ],
      "source": [
       "my_tuple = (10, 20, 30, 20, 40, 50)\n",
       "\n",
       "# Count the number of occurrences of 20\n",
       "count_20 = my_tuple.count(20)\n",
       "print(\"Number of occurrences of 20:\", count_20)  # Output: 2\n",
       "\n",
       "# Count the number of occurrences of 60 (not present in the tuple)\n",
       "count_60 = my_tuple.count(60)\n",
       "print(\"Number of occurrences of 60:\", count_60)  # Output: 0\n"
      ]
     },
     {
      "cell_type": "code",
      "execution_count": 17,
      "metadata": {},
      "outputs": [
       {
        "name": "stdout",
        "output_type": "stream",
        "text": [
         "(1, 2, 3, 4, 5, 6)\n"
        ]
       }
      ],
      "source": [
       "#concatenation of tuples using plus(+) operator\n",
       "t1=(1,2,3)\n",
       "t2=(4,5,6)\n",
       "t3=t1+t2\n",
       "print(t3)"
      ]
     },
     {
      "cell_type": "code",
      "execution_count": 18,
      "metadata": {},
      "outputs": [
       {
        "name": "stdout",
        "output_type": "stream",
        "text": [
         "3\n"
        ]
       }
      ],
      "source": [
       "#To print length of a tuple\n",
       "l=len(t1)\n",
       "print(l)"
      ]
     },
     {
      "cell_type": "code",
      "execution_count": 19,
      "metadata": {},
      "outputs": [
       {
        "name": "stdout",
        "output_type": "stream",
        "text": [
         "('hello', 'world', 'hello', 'world', 'hello', 'world')\n"
        ]
       }
      ],
      "source": [
       "#Repition of tuples\n",
       "#We can create a tuple of multiple same elements from a single element in that tuple.\n",
       "t1= ('hello','world')*3\n",
       "print(t1)"
      ]
     },
     {
      "cell_type": "code",
      "execution_count": 20,
      "metadata": {},
      "outputs": [
       {
        "name": "stdout",
        "output_type": "stream",
        "text": [
         "(6, 5, 4, 3, 2, 1)\n"
        ]
       }
      ],
      "source": [
       "#To reverse the tuple\n",
       "print(t3[::-1])"
      ]
     },
     {
      "cell_type": "code",
      "execution_count": 21,
      "metadata": {},
      "outputs": [],
      "source": [
       "#To delete a tuple\n",
       "tuple3 = ( 0, 1)\n",
       "del tuple3"
      ]
     },
     {
      "cell_type": "code",
      "execution_count": 22,
      "metadata": {},
      "outputs": [
       {
        "name": "stdout",
        "output_type": "stream",
        "text": [
         "(1, 2, 3, 4, 5, 6)\n",
         "(3, 4)\n"
        ]
       }
      ],
      "source": [
       "#Slicing tuples\n",
       "#dividing tuples into smaller tuples using indexes\n",
       "print(t3)\n",
       "print (t3[2:4])\n",
       "#sliced from element 2 to element 3"
      ]
     },
     {
      "cell_type": "code",
      "execution_count": 23,
      "metadata": {},
      "outputs": [
       {
        "name": "stdout",
        "output_type": "stream",
        "text": [
         "(6, 5, 4, 3, 2, 1)\n"
        ]
       }
      ],
      "source": [
       "#To reverse a tuple\n",
       "t = (1, 2, 3, 4, 5, 6)\n",
       "print(tuple(reversed(t)))"
      ]
     },
     {
      "cell_type": "markdown",
      "metadata": {},
      "source": [
       "Packing and Unpacking:\n",
       "\n",
       "In Python, you can unpack a tuple by assigning its values to variables in a single line. \n",
       "\n",
       "You can also use the `*` operator to unpack the remaining values as a list.\n",
       "\n",
       "\n"
      ]
     },
     {
      "cell_type": "code",
      "execution_count": 24,
      "metadata": {},
      "outputs": [
       {
        "name": "stdout",
        "output_type": "stream",
        "text": [
         "1\n",
         "2\n",
         "3\n",
         "1\n",
         "2\n",
         "[3, 4, 5]\n"
        ]
       }
      ],
      "source": [
       "my_tuple = (1, 2, 3)\n",
       "\n",
       "# Unpack the tuple\n",
       "a, b, c = my_tuple\n",
       "\n",
       "# Now, 'a' will be 1, 'b' will be 2, and 'c' will be 3\n",
       "print(a)  # Output: 1\n",
       "print(b)  # Output: 2\n",
       "print(c)  # Output: 3\n",
       "\n",
       "my_tuple2 = (1, 2, 3, 4, 5)\n",
       "\n",
       "# Unpack the first two values and collect the rest in a list\n",
       "a, b, *rest = my_tuple2\n",
       "\n",
       "print(a)    # Output: 1\n",
       "print(b)    # Output: 2\n",
       "print(rest)  # Output: [3, 4, 5]\n"
      ]
     },
     {
      "cell_type": "markdown",
      "metadata": {},
      "source": [
       "Enumerate:\n",
       "When iterating over a sequence, tuples from the `enumerate` function are often used.\n"
      ]
     },
     {
      "cell_type": "code",
      "execution_count": 25,
      "metadata": {},
      "outputs": [
       {
        "name": "stdout",
        "output_type": "stream",
        "text": [
         "0 : blue\n",
         "1 : 3\n",
         "2 : True\n"
        ]
       }
      ],
      "source": [
       "for index, value in enumerate(list1):\n",
       "    print(index, ':', value)\n"
      ]
     },
     {
      "cell_type": "markdown",
      "metadata": {},
      "source": [
       "Applications"
      ]
     },
     {
      "cell_type": "markdown",
      "metadata": {},
      "source": [
       "Conclusion\n",
       "\n",
       "Advantages:\n",
       "* Since a tuple's size is fixed, it can be stored more compactly than lists which need to over-allocate to make *append*() operations efficient.\n",
       "* Tuples can be used to pass a collection of arguments to a function.\n",
       "* Tuples refer directly to their elements.\n",
       "sources: \n",
       "1. [Python Docs](https://docs.python.org/3/tutorial/datastructures.html)\n",
       "2. [Python Class Types](https://docs.python.org/3/library/stdtypes.html#tuples)\n"
      ]
     },
     {
      "cell_type": "code",
      "execution_count": 26,
      "metadata": {},
      "outputs": [],
      "source": [
       "days_of_week = ('Monday', 'Tuesday', 'Wednesday', 'Thursday', 'Friday', 'Saturday', 'Sunday')\n",
       "#this is an example of data in a program that should not be changed."
      ]
     },
     {
      "cell_type": "markdown",
      "metadata": {},
      "source": [
       "|Shallow Copy|Deep Copy|\n",
       "|---|--|\n",
       "|A shallow copy is faster.|Deep copy is comparatively slower.|\n",
       "|Shallow Copy reflects changes made to the new/copied object in the original object|Deep copy doesn’t reflect changes made to the new/copied object in the original object.|\n",
       "\n"
      ]
     },
     {
      "cell_type": "code",
      "execution_count": null,
      "metadata": {},
      "outputs": [],
      "source": []
     }
    ],
    "metadata": {
     "kernelspec": {
      "display_name": "Python 3",
      "language": "python",
      "name": "python3"
     },
     "language_info": {
      "codemirror_mode": {
       "name": "ipython",
       "version": 3
      },
      "file_extension": ".py",
      "mimetype": "text/x-python",
      "name": "python",
      "nbconvert_exporter": "python",
      "pygments_lexer": "ipython3",
      "version": "3.10.0"
     }
    },
    "nbformat": 4,
    "nbformat_minor": 2
   }